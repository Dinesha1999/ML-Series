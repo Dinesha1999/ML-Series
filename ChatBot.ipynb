{
  "nbformat": 4,
  "nbformat_minor": 0,
  "metadata": {
    "colab": {
      "provenance": [],
      "authorship_tag": "ABX9TyMmrj/H8nNpqUYt6Xw35Au9",
      "include_colab_link": true
    },
    "kernelspec": {
      "name": "python3",
      "display_name": "Python 3"
    },
    "language_info": {
      "name": "python"
    }
  },
  "cells": [
    {
      "cell_type": "markdown",
      "metadata": {
        "id": "view-in-github",
        "colab_type": "text"
      },
      "source": [
        "<a href=\"https://colab.research.google.com/github/Dinesha1999/ML-Series/blob/main/ChatBot.ipynb\" target=\"_parent\"><img src=\"https://colab.research.google.com/assets/colab-badge.svg\" alt=\"Open In Colab\"/></a>"
      ]
    },
    {
      "cell_type": "code",
      "execution_count": null,
      "metadata": {
        "id": "-SQoGIn-IjJO"
      },
      "outputs": [],
      "source": [
        "# install the necessary packages\n",
        "!pip install langchain -qU\n",
        "!pip install langchain-openai -qU"
      ]
    },
    {
      "cell_type": "code",
      "source": [
        "#import necessary libraries(modules)\n",
        "import os\n",
        "from google.colab import userdata\n",
        "#to use the secret key"
      ],
      "metadata": {
        "id": "UMi7MPOfLA1b"
      },
      "execution_count": null,
      "outputs": []
    },
    {
      "cell_type": "code",
      "source": [
        "# Initialize OpenAI LLM"
      ],
      "metadata": {
        "id": "dc57yWrrTXlS"
      },
      "execution_count": null,
      "outputs": []
    },
    {
      "cell_type": "code",
      "source": [
        "from langchain_openai import ChatOpenAI\n",
        "#in here use the chat model of api\n",
        "\n",
        "#Set/store OpenAI API KEY as environment variable\n",
        "os.environ['OPENAI_API_KEY'] = userdata.get('OPENAI_API_KEY')\n",
        "\n",
        "#initialize the ChatOpenAI Model\n",
        "llm = ChatOpenAI(\n",
        "    model =\"gpt-3.5-turbo\",\n",
        "    temperature =0\n",
        ")\n",
        "\n",
        "\n",
        "\n",
        "\n"
      ],
      "metadata": {
        "id": "Ufk1m1O0UIL9"
      },
      "execution_count": null,
      "outputs": []
    },
    {
      "cell_type": "code",
      "source": [
        "#Initialize the Prompt Template(Langchain components)"
      ],
      "metadata": {
        "id": "tdxeWp6WVeDh"
      },
      "execution_count": null,
      "outputs": []
    },
    {
      "cell_type": "code",
      "source": [
        "from langchain_core.prompts import ChatPromptTemplate\n",
        "\n",
        "#create a prompt template\n",
        "prompt = ChatPromptTemplate.from_messages(\n",
        "    [\n",
        "        (\"system\",\"You are intelligent chatbot.Answer the following questions. \"),\n",
        "        (\"user\",\"{question}\")\n",
        "\n",
        "    ]\n",
        ")"
      ],
      "metadata": {
        "id": "gMveq6x7XAqV"
      },
      "execution_count": null,
      "outputs": []
    },
    {
      "cell_type": "code",
      "source": [
        "#Initialize the OutPut Parser"
      ],
      "metadata": {
        "id": "9T3j4Mj_X9n4"
      },
      "execution_count": null,
      "outputs": []
    },
    {
      "cell_type": "code",
      "source": [
        "from langchain_core.output_parsers import StrOutputParser\n",
        "\n",
        "#initialize the string output parser\n",
        "parser = StrOutputParser()"
      ],
      "metadata": {
        "id": "-htnsxScYuPX"
      },
      "execution_count": null,
      "outputs": []
    },
    {
      "cell_type": "code",
      "source": [
        "#chain the prompt,LLM and output parser\n",
        "chain = prompt | llm | parser"
      ],
      "metadata": {
        "id": "tyXqvrWWZTrM"
      },
      "execution_count": null,
      "outputs": []
    },
    {
      "cell_type": "code",
      "source": [
        "question =\"My name is dinesha.I am 25 years old\"\n",
        "response = chain.invoke({\"question\": [HumanMessage(content= question)]})\n",
        "print(response)"
      ],
      "metadata": {
        "colab": {
          "base_uri": "https://localhost:8080/"
        },
        "id": "BODxE6mkZmRL",
        "outputId": "6abf63e0-3d86-4e58-eda7-94adac17c3be"
      },
      "execution_count": 99,
      "outputs": [
        {
          "output_type": "stream",
          "name": "stdout",
          "text": [
            "Nice to meet you, Dinesha! It's great to know that you are 25 years old. How can I assist you today?\n"
          ]
        }
      ]
    },
    {
      "cell_type": "code",
      "source": [
        "question =\"who am i?\"\n",
        "response = chain.invoke({\"question\": [HumanMessage(content= question)]})\n",
        "print(response)"
      ],
      "metadata": {
        "colab": {
          "base_uri": "https://localhost:8080/"
        },
        "id": "rJEM2uaqaAjY",
        "outputId": "310f59ee-c38a-4996-965e-9e312d9ef315"
      },
      "execution_count": 103,
      "outputs": [
        {
          "output_type": "stream",
          "name": "stdout",
          "text": [
            "You are Dinesha, a unique individual with your own thoughts, feelings, and experiences.\n"
          ]
        }
      ]
    },
    {
      "cell_type": "code",
      "source": [
        "question =\"What is generative ai?\"\n",
        "response = chain.invoke({\"question\": [HumanMessage(content= question)]})\n",
        "print(response)"
      ],
      "metadata": {
        "colab": {
          "base_uri": "https://localhost:8080/"
        },
        "id": "A08v10FOjGE6",
        "outputId": "d20e530f-6feb-4393-a149-cc71599caa09"
      },
      "execution_count": 82,
      "outputs": [
        {
          "output_type": "stream",
          "name": "stdout",
          "text": [
            "Generative AI refers to artificial intelligence systems that are capable of creating new content, such as images, text, or music, based on patterns and data they have been trained on. These systems use algorithms to generate original and unique outputs, often mimicking human creativity. Generative AI has applications in various fields, including art, design, and content creation.\n"
          ]
        }
      ]
    },
    {
      "cell_type": "code",
      "source": [
        "#Create a prompt template with a predefined conversation history and a new question placeholder\n",
        "prompt = ChatPromptTemplate.from_messages(\n",
        "    [\n",
        "        SystemMessage(content = \"You are an intelligent chatbot.Answer the following question.\"),\n",
        "        HumanMessage(content = \"My name is Dinesha\"),\n",
        "        AIMessage(content = \"Nice to meet you,Dinesha!How can I assist you today?\"),\n",
        "        MessagesPlaceholder(variable_name = \"question\")\n",
        "    ]\n",
        ")"
      ],
      "metadata": {
        "id": "hsZDG7bFkRnZ"
      },
      "execution_count": 84,
      "outputs": []
    },
    {
      "cell_type": "code",
      "source": [
        "#Initialize Prompt Template with Predefined Conversation History\n",
        "from langchain.schema import(\n",
        "    AIMessage,\n",
        "    HumanMessage,\n",
        "    SystemMessage\n",
        "\n",
        ")\n",
        "from langchain.prompts.chat import MessagesPlaceholder\n"
      ],
      "metadata": {
        "id": "Ha-YhNAoj-mO"
      },
      "execution_count": 83,
      "outputs": []
    },
    {
      "cell_type": "code",
      "source": [
        "#chain the prompt,LLM and output parser\n",
        "chain = prompt | llm | parser"
      ],
      "metadata": {
        "id": "B7feU0iUrmtC"
      },
      "execution_count": 85,
      "outputs": []
    },
    {
      "cell_type": "code",
      "source": [
        "question =\"who am i?\"\n",
        "response = chain.invoke({\"question\": [HumanMessage(content= question)]})\n",
        "print(response)"
      ],
      "metadata": {
        "colab": {
          "base_uri": "https://localhost:8080/"
        },
        "id": "pTHNaq_bu4iL",
        "outputId": "02396738-6022-4867-bb26-5d3704e349ac"
      },
      "execution_count": 107,
      "outputs": [
        {
          "output_type": "stream",
          "name": "stdout",
          "text": [
            "You are Dinesha, a unique individual with your own thoughts, feelings, and experiences.\n"
          ]
        }
      ]
    }
  ]
}